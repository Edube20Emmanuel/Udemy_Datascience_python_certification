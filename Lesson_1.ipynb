{
 "cells": [
  {
   "cell_type": "markdown",
   "id": "7b05393e",
   "metadata": {},
   "source": [
    "### String formatting"
   ]
  },
  {
   "cell_type": "code",
   "execution_count": 1,
   "id": "976b5b8d",
   "metadata": {},
   "outputs": [
    {
     "name": "stdout",
     "output_type": "stream",
     "text": [
      "My name is Edube and i am a Data Scientist\n"
     ]
    }
   ],
   "source": [
    "name = 'Edube'\n",
    "profession = 'Data Scientist'\n",
    "print(\"My name is {} and i am a {}\".format(name,profession))"
   ]
  },
  {
   "cell_type": "code",
   "execution_count": 2,
   "id": "82cf27e1",
   "metadata": {},
   "outputs": [
    {
     "name": "stdout",
     "output_type": "stream",
     "text": [
      "My name is Data Scientist and i am a Edube\n"
     ]
    }
   ],
   "source": [
    "print(\"My name is {one} and i am a {two}\".format(two = name,one = profession))"
   ]
  },
  {
   "cell_type": "markdown",
   "id": "01c603d2",
   "metadata": {},
   "source": [
    "### Lecture two"
   ]
  },
  {
   "cell_type": "code",
   "execution_count": 3,
   "id": "f8306729",
   "metadata": {},
   "outputs": [
    {
     "name": "stdout",
     "output_type": "stream",
     "text": [
      "The number is 1\n",
      "The number is 2\n",
      "The number is 3\n",
      "The number is 4\n"
     ]
    }
   ],
   "source": [
    "## The while loop\n",
    "num = 1\n",
    "while num < 5:\n",
    "    print(\"The number is {}\".format(num))\n",
    "    num += 1"
   ]
  },
  {
   "cell_type": "code",
   "execution_count": 7,
   "id": "a8bcb9f0",
   "metadata": {},
   "outputs": [
    {
     "name": "stdout",
     "output_type": "stream",
     "text": [
      "The number is 1\n",
      "The number is 2\n",
      "The number is 3\n",
      "The number is 4\n"
     ]
    }
   ],
   "source": [
    "for num in range(1,5):\n",
    "    print(\"The number is {}\".format(num))"
   ]
  },
  {
   "cell_type": "code",
   "execution_count": 9,
   "id": "070f182c",
   "metadata": {},
   "outputs": [
    {
     "name": "stdout",
     "output_type": "stream",
     "text": [
      "[1, 4, 9, 16]\n"
     ]
    }
   ],
   "source": [
    "## List comprehensions\n",
    "numbers = [1,2,3,4]\n",
    "sqr = []\n",
    "\n",
    "for num in numbers:\n",
    "    sqr.append(num**2)\n",
    "print(sqr)"
   ]
  },
  {
   "cell_type": "code",
   "execution_count": 10,
   "id": "33d0d8dc",
   "metadata": {},
   "outputs": [
    {
     "data": {
      "text/plain": [
       "[1, 4, 9, 16]"
      ]
     },
     "execution_count": 10,
     "metadata": {},
     "output_type": "execute_result"
    }
   ],
   "source": [
    "## Now do the list comprehension\n",
    "sqr = [num**2 for num in numbers]\n",
    "sqr"
   ]
  },
  {
   "cell_type": "code",
   "execution_count": 11,
   "id": "55685a89",
   "metadata": {},
   "outputs": [
    {
     "data": {
      "text/plain": [
       "25"
      ]
     },
     "execution_count": 11,
     "metadata": {},
     "output_type": "execute_result"
    }
   ],
   "source": [
    "## Functions\n",
    "def funct(num):\n",
    "    return num**2\n",
    "\n",
    "funct(5)"
   ]
  }
 ],
 "metadata": {
  "kernelspec": {
   "display_name": "Python 3",
   "language": "python",
   "name": "python3"
  },
  "language_info": {
   "codemirror_mode": {
    "name": "ipython",
    "version": 3
   },
   "file_extension": ".py",
   "mimetype": "text/x-python",
   "name": "python",
   "nbconvert_exporter": "python",
   "pygments_lexer": "ipython3",
   "version": "3.13.5"
  }
 },
 "nbformat": 4,
 "nbformat_minor": 5
}
